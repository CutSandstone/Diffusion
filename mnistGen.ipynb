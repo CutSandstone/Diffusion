{
 "cells": [
  {
   "cell_type": "code",
   "execution_count": 17,
   "id": "8ec8cc8f",
   "metadata": {},
   "outputs": [],
   "source": [
    "# Importing and reading data\n",
    "\n",
    "import torch\n",
    "from readData import readData\n",
    "train_data, test_data = readData()"
   ]
  },
  {
   "cell_type": "code",
   "execution_count": 37,
   "id": "495a4815",
   "metadata": {},
   "outputs": [],
   "source": [
    "# Constants\n",
    "NOISE_ITERATIONS = 20\n",
    "BATCH_SIZE = 20\n",
    "LR = 0.001\n"
   ]
  },
  {
   "cell_type": "code",
   "execution_count": 33,
   "id": "3417e492",
   "metadata": {},
   "outputs": [],
   "source": [
    "# Defining U-Net\n",
    "\n",
    "encode = torch.nn.Sequential(\n",
    "    torch.nn.Conv2d(1,32,(5,5)),\n",
    "    torch.nn.ReLU(),\n",
    "    torch.nn.Conv2d(32,64,(5,5),(2,2)),\n",
    "    torch.nn.ReLU(),\n",
    "    torch.nn.MaxPool2d((2,2)),\n",
    "    torch.nn.Flatten(),\n",
    ")\n",
    "decode = torch.nn.Sequential(\n",
    "    torch.nn.Unflatten(1,(64,5,5)),\n",
    "    torch.nn.ConvTranspose2d(64,32,4,2,1),\n",
    "    torch.nn.ReLU(),\n",
    "    torch.nn.ConvTranspose2d(32,16,5,2,output_padding=1),\n",
    "    torch.nn.ReLU(),\n",
    "    torch.nn.ConvTranspose2d(16,1,5),\n",
    "    torch.nn.Sigmoid(),\n",
    ")\n",
    "uNet = torch.nn.Sequential(\n",
    "    encode,\n",
    "    decode\n",
    ")"
   ]
  },
  {
   "cell_type": "code",
   "execution_count": 29,
   "id": "4cb24735",
   "metadata": {},
   "outputs": [],
   "source": [
    "# Using noise to generate training data\n",
    "from noise import genNoise\n",
    "import random\n",
    "def genData(data):\n",
    "    ret = []\n",
    "    for img,_ in data:\n",
    "        noise = genNoise(torch.from_numpy(img/255).float(),NOISE_ITERATIONS)\n",
    "        for i in range(1,len(noise)):\n",
    "            ret.append((noise[i],noise[i-1]))\n",
    "    random.shuffle(ret)\n",
    "    input = torch.stack([a[0] for a in ret]).float().unsqueeze(1)\n",
    "    target = torch.stack([a[1] for a in ret]).float().unsqueeze(1)\n",
    "    return input,target"
   ]
  },
  {
   "cell_type": "code",
   "execution_count": null,
   "id": "4bd08f75",
   "metadata": {},
   "outputs": [],
   "source": [
    "import random\n",
    "from tqdm import tqdm\n",
    "loss_fn = torch.nn.MSELoss(reduction='mean')\n",
    "def train(uNet, data):\n",
    "    optimizer = torch.optim.Adam(uNet.parameters(),lr=LR)\n",
    "    uNet.train()\n",
    "    random.shuffle(data)\n",
    "    for batch in tqdm(range(0,len(data)-BATCH_SIZE+1,BATCH_SIZE)):\n",
    "        input,target = genData(data[batch:batch+BATCH_SIZE])\n",
    "        pred = uNet(input)\n",
    "        loss = loss_fn(pred,target)\n",
    "        optimizer.zero_grad()\n",
    "        loss.backward()\n",
    "        optimizer.step()\n",
    "def test(uNet, data):\n",
    "    uNet.eval()\n",
    "    avg_loss = 0\n",
    "    with torch.no_grad():\n",
    "        for batch in tqdm(range(0,len(data)-BATCH_SIZE+1,BATCH_SIZE)):\n",
    "            input,target = genData(data[batch:batch+BATCH_SIZE])\n",
    "            pred = uNet(input)\n",
    "            loss = loss_fn(pred,target)\n",
    "            avg_loss+=loss.item()\n",
    "    return avg_loss/(len(data)//BATCH_SIZE)"
   ]
  },
  {
   "cell_type": "code",
   "execution_count": null,
   "id": "fcdf5ef8",
   "metadata": {},
   "outputs": [],
   "source": [
    "train(uNet,train_data)"
   ]
  },
  {
   "cell_type": "code",
   "execution_count": 59,
   "id": "1835ee9a",
   "metadata": {},
   "outputs": [
    {
     "name": "stderr",
     "output_type": "stream",
     "text": [
      "  0%|          | 0/1 [00:00<?, ?it/s]\n"
     ]
    },
    {
     "ename": "ValueError",
     "evalue": "batchmean is not a valid value for reduction",
     "output_type": "error",
     "traceback": [
      "\u001b[31m---------------------------------------------------------------------------\u001b[39m",
      "\u001b[31mValueError\u001b[39m                                Traceback (most recent call last)",
      "\u001b[36mCell\u001b[39m\u001b[36m \u001b[39m\u001b[32mIn[59]\u001b[39m\u001b[32m, line 1\u001b[39m\n\u001b[32m----> \u001b[39m\u001b[32m1\u001b[39m \u001b[38;5;28mprint\u001b[39m(\u001b[43mtest\u001b[49m\u001b[43m(\u001b[49m\u001b[43muNet\u001b[49m\u001b[43m,\u001b[49m\u001b[43mtest_data\u001b[49m\u001b[43m[\u001b[49m\u001b[43m:\u001b[49m\u001b[43mBATCH_SIZE\u001b[49m\u001b[43m]\u001b[49m\u001b[43m)\u001b[49m)\n",
      "\u001b[36mCell\u001b[39m\u001b[36m \u001b[39m\u001b[32mIn[58]\u001b[39m\u001b[32m, line 22\u001b[39m, in \u001b[36mtest\u001b[39m\u001b[34m(uNet, data)\u001b[39m\n\u001b[32m     20\u001b[39m         \u001b[38;5;28minput\u001b[39m,target = genData(data[batch:batch+BATCH_SIZE])\n\u001b[32m     21\u001b[39m         pred = uNet(\u001b[38;5;28minput\u001b[39m)\n\u001b[32m---> \u001b[39m\u001b[32m22\u001b[39m         loss = \u001b[43mloss_fn\u001b[49m\u001b[43m(\u001b[49m\u001b[43mpred\u001b[49m\u001b[43m,\u001b[49m\u001b[43mtarget\u001b[49m\u001b[43m)\u001b[49m\n\u001b[32m     23\u001b[39m         avg_loss+=loss.item()\n\u001b[32m     24\u001b[39m \u001b[38;5;28;01mreturn\u001b[39;00m avg_loss/(\u001b[38;5;28mlen\u001b[39m(data)//BATCH_SIZE)\n",
      "\u001b[36mFile \u001b[39m\u001b[32m~/diffusion/.venv/lib/python3.12/site-packages/torch/nn/modules/module.py:1773\u001b[39m, in \u001b[36mModule._wrapped_call_impl\u001b[39m\u001b[34m(self, *args, **kwargs)\u001b[39m\n\u001b[32m   1771\u001b[39m     \u001b[38;5;28;01mreturn\u001b[39;00m \u001b[38;5;28mself\u001b[39m._compiled_call_impl(*args, **kwargs)  \u001b[38;5;66;03m# type: ignore[misc]\u001b[39;00m\n\u001b[32m   1772\u001b[39m \u001b[38;5;28;01melse\u001b[39;00m:\n\u001b[32m-> \u001b[39m\u001b[32m1773\u001b[39m     \u001b[38;5;28;01mreturn\u001b[39;00m \u001b[38;5;28;43mself\u001b[39;49m\u001b[43m.\u001b[49m\u001b[43m_call_impl\u001b[49m\u001b[43m(\u001b[49m\u001b[43m*\u001b[49m\u001b[43margs\u001b[49m\u001b[43m,\u001b[49m\u001b[43m \u001b[49m\u001b[43m*\u001b[49m\u001b[43m*\u001b[49m\u001b[43mkwargs\u001b[49m\u001b[43m)\u001b[49m\n",
      "\u001b[36mFile \u001b[39m\u001b[32m~/diffusion/.venv/lib/python3.12/site-packages/torch/nn/modules/module.py:1784\u001b[39m, in \u001b[36mModule._call_impl\u001b[39m\u001b[34m(self, *args, **kwargs)\u001b[39m\n\u001b[32m   1779\u001b[39m \u001b[38;5;66;03m# If we don't have any hooks, we want to skip the rest of the logic in\u001b[39;00m\n\u001b[32m   1780\u001b[39m \u001b[38;5;66;03m# this function, and just call forward.\u001b[39;00m\n\u001b[32m   1781\u001b[39m \u001b[38;5;28;01mif\u001b[39;00m \u001b[38;5;129;01mnot\u001b[39;00m (\u001b[38;5;28mself\u001b[39m._backward_hooks \u001b[38;5;129;01mor\u001b[39;00m \u001b[38;5;28mself\u001b[39m._backward_pre_hooks \u001b[38;5;129;01mor\u001b[39;00m \u001b[38;5;28mself\u001b[39m._forward_hooks \u001b[38;5;129;01mor\u001b[39;00m \u001b[38;5;28mself\u001b[39m._forward_pre_hooks\n\u001b[32m   1782\u001b[39m         \u001b[38;5;129;01mor\u001b[39;00m _global_backward_pre_hooks \u001b[38;5;129;01mor\u001b[39;00m _global_backward_hooks\n\u001b[32m   1783\u001b[39m         \u001b[38;5;129;01mor\u001b[39;00m _global_forward_hooks \u001b[38;5;129;01mor\u001b[39;00m _global_forward_pre_hooks):\n\u001b[32m-> \u001b[39m\u001b[32m1784\u001b[39m     \u001b[38;5;28;01mreturn\u001b[39;00m \u001b[43mforward_call\u001b[49m\u001b[43m(\u001b[49m\u001b[43m*\u001b[49m\u001b[43margs\u001b[49m\u001b[43m,\u001b[49m\u001b[43m \u001b[49m\u001b[43m*\u001b[49m\u001b[43m*\u001b[49m\u001b[43mkwargs\u001b[49m\u001b[43m)\u001b[49m\n\u001b[32m   1786\u001b[39m result = \u001b[38;5;28;01mNone\u001b[39;00m\n\u001b[32m   1787\u001b[39m called_always_called_hooks = \u001b[38;5;28mset\u001b[39m()\n",
      "\u001b[36mFile \u001b[39m\u001b[32m~/diffusion/.venv/lib/python3.12/site-packages/torch/nn/modules/loss.py:616\u001b[39m, in \u001b[36mMSELoss.forward\u001b[39m\u001b[34m(self, input, target)\u001b[39m\n\u001b[32m    615\u001b[39m \u001b[38;5;28;01mdef\u001b[39;00m\u001b[38;5;250m \u001b[39m\u001b[34mforward\u001b[39m(\u001b[38;5;28mself\u001b[39m, \u001b[38;5;28minput\u001b[39m: Tensor, target: Tensor) -> Tensor:\n\u001b[32m--> \u001b[39m\u001b[32m616\u001b[39m     \u001b[38;5;28;01mreturn\u001b[39;00m \u001b[43mF\u001b[49m\u001b[43m.\u001b[49m\u001b[43mmse_loss\u001b[49m\u001b[43m(\u001b[49m\u001b[38;5;28;43minput\u001b[39;49m\u001b[43m,\u001b[49m\u001b[43m \u001b[49m\u001b[43mtarget\u001b[49m\u001b[43m,\u001b[49m\u001b[43m \u001b[49m\u001b[43mreduction\u001b[49m\u001b[43m=\u001b[49m\u001b[38;5;28;43mself\u001b[39;49m\u001b[43m.\u001b[49m\u001b[43mreduction\u001b[49m\u001b[43m)\u001b[49m\n",
      "\u001b[36mFile \u001b[39m\u001b[32m~/diffusion/.venv/lib/python3.12/site-packages/torch/nn/functional.py:3890\u001b[39m, in \u001b[36mmse_loss\u001b[39m\u001b[34m(input, target, size_average, reduce, reduction, weight)\u001b[39m\n\u001b[32m   3885\u001b[39m         \u001b[38;5;28;01mraise\u001b[39;00m \u001b[38;5;167;01mValueError\u001b[39;00m(\n\u001b[32m   3886\u001b[39m             \u001b[33mf\u001b[39m\u001b[33m\"\u001b[39m\u001b[33mInvalid reduction mode: \u001b[39m\u001b[38;5;132;01m{\u001b[39;00mreduction\u001b[38;5;132;01m}\u001b[39;00m\u001b[33m. Expected one of \u001b[39m\u001b[33m'\u001b[39m\u001b[33mnone\u001b[39m\u001b[33m'\u001b[39m\u001b[33m, \u001b[39m\u001b[33m'\u001b[39m\u001b[33mmean\u001b[39m\u001b[33m'\u001b[39m\u001b[33m, \u001b[39m\u001b[33m'\u001b[39m\u001b[33msum\u001b[39m\u001b[33m'\u001b[39m\u001b[33m.\u001b[39m\u001b[33m\"\u001b[39m\n\u001b[32m   3887\u001b[39m         )\n\u001b[32m   3888\u001b[39m \u001b[38;5;28;01melse\u001b[39;00m:\n\u001b[32m   3889\u001b[39m     \u001b[38;5;28;01mreturn\u001b[39;00m torch._C._nn.mse_loss(\n\u001b[32m-> \u001b[39m\u001b[32m3890\u001b[39m         expanded_input, expanded_target, \u001b[43m_Reduction\u001b[49m\u001b[43m.\u001b[49m\u001b[43mget_enum\u001b[49m\u001b[43m(\u001b[49m\u001b[43mreduction\u001b[49m\u001b[43m)\u001b[49m\n\u001b[32m   3891\u001b[39m     )\n",
      "\u001b[36mFile \u001b[39m\u001b[32m~/diffusion/.venv/lib/python3.12/site-packages/torch/nn/_reduction.py:23\u001b[39m, in \u001b[36mget_enum\u001b[39m\u001b[34m(reduction)\u001b[39m\n\u001b[32m     21\u001b[39m \u001b[38;5;28;01melse\u001b[39;00m:\n\u001b[32m     22\u001b[39m     ret = -\u001b[32m1\u001b[39m  \u001b[38;5;66;03m# TODO: remove once JIT exceptions support control flow\u001b[39;00m\n\u001b[32m---> \u001b[39m\u001b[32m23\u001b[39m     \u001b[38;5;28;01mraise\u001b[39;00m \u001b[38;5;167;01mValueError\u001b[39;00m(\u001b[33mf\u001b[39m\u001b[33m\"\u001b[39m\u001b[38;5;132;01m{\u001b[39;00mreduction\u001b[38;5;132;01m}\u001b[39;00m\u001b[33m is not a valid value for reduction\u001b[39m\u001b[33m\"\u001b[39m)\n\u001b[32m     24\u001b[39m \u001b[38;5;28;01mreturn\u001b[39;00m ret\n",
      "\u001b[31mValueError\u001b[39m: batchmean is not a valid value for reduction"
     ]
    }
   ],
   "source": [
    "print(test(uNet,test_data[:BATCH_SIZE]))"
   ]
  },
  {
   "cell_type": "code",
   "execution_count": 49,
   "id": "185d2497",
   "metadata": {},
   "outputs": [
    {
     "data": {
      "image/png": "[encoded data removed]",
      "text/plain": [
       "<Figure size 1000x1000 with 25 Axes>"
      ]
     },
     "metadata": {},
     "output_type": "display_data"
    }
   ],
   "source": [
    "\n",
    "images = [torch.normal(0,1,(1,1,28,28))]\n",
    "for _ in range(20):\n",
    "    images.append(uNet(images[-1]))\n",
    "import matplotlib.pyplot as plt\n",
    "\n",
    "n_images = len(images)\n",
    "cols = 5\n",
    "rows = (n_images + cols - 1) // cols\n",
    "\n",
    "fig, axes = plt.subplots(rows, cols, figsize=(cols*2, rows*2))\n",
    "for i, ax in enumerate(axes.flat):\n",
    "    if i < n_images:\n",
    "        ax.imshow(images[i].detach().numpy()[0][0], cmap='gray')\n",
    "    ax.axis('off')\n",
    "plt.tight_layout()\n",
    "plt.show()"
   ]
  }
 ],
 "metadata": {
  "kernelspec": {
   "display_name": ".venv",
   "language": "python",
   "name": "python3"
  },
  "language_info": {
   "codemirror_mode": {
    "name": "ipython",
    "version": 3
   },
   "file_extension": ".py",
   "mimetype": "text/x-python",
   "name": "python",
   "nbconvert_exporter": "python",
   "pygments_lexer": "ipython3",
   "version": "3.12.3"
  }
 },
 "nbformat": 4,
 "nbformat_minor": 5
}
