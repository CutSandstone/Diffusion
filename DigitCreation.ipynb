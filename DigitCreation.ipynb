{
 "cells": [
  {
   "cell_type": "code",
   "execution_count": 1,
   "id": "d039820f",
   "metadata": {},
   "outputs": [],
   "source": [
    "import torch\n",
    "from readData import readData\n",
    "train_data, test_data = readData()"
   ]
  },
  {
   "cell_type": "code",
   "execution_count": 102,
   "id": "1f2ee779",
   "metadata": {},
   "outputs": [],
   "source": [
    "LATENT_DIM = 100\n",
    "BETA = 0.1\n",
    "LR = 0.0001\n",
    "BATCH_SIZE = 32"
   ]
  },
  {
   "cell_type": "code",
   "execution_count": 87,
   "id": "323129b4",
   "metadata": {},
   "outputs": [],
   "source": [
    "encoder = torch.nn.Sequential(\n",
    "    torch.nn.Conv2d(1, 16, 5, padding=2),\n",
    "    torch.nn.ReLU(),\n",
    "    torch.nn.Conv2d(16, 32, 5, padding=2),\n",
    "    torch.nn.ReLU(),\n",
    "    torch.nn.MaxPool2d(2,2),\n",
    "    torch.nn.Flatten(),\n",
    "    torch.nn.Linear(32*14*14, LATENT_DIM*2),\n",
    ")\n",
    "decoder = torch.nn.Sequential(\n",
    "    torch.nn.Linear(LATENT_DIM, 32*14*14),\n",
    "    torch.nn.ReLU(),\n",
    "    torch.nn.Unflatten(1, (32, 14, 14)),\n",
    "    torch.nn.ConvTranspose2d(32, 16, 2, stride=2),\n",
    "    torch.nn.ReLU(),\n",
    "    torch.nn.ConvTranspose2d(16, 1, 3, padding=1),\n",
    "    torch.nn.Sigmoid()\n",
    ")"
   ]
  },
  {
   "cell_type": "code",
   "execution_count": 103,
   "id": "cdb9860d",
   "metadata": {},
   "outputs": [],
   "source": [
    "from tqdm import tqdm\n",
    "import random\n",
    "optimizer = torch.optim.Adam(list(encoder.parameters()) + list(decoder.parameters()), lr=LR)\n",
    "mse_loss = torch.nn.MSELoss()\n",
    "def runModel(encoder, decoder, data):\n",
    "    input = torch.stack([torch.from_numpy(a[0]/255) for a in data]).float().unsqueeze(1)\n",
    "    latent_distribution = encoder(input)\n",
    "    latent_mean = latent_distribution[:, :LATENT_DIM]\n",
    "    latent_logvar = latent_distribution[:, LATENT_DIM:]\n",
    "    latent_std = torch.exp(latent_logvar/2)\n",
    "    eps = torch.randn_like(latent_mean)\n",
    "    latent = latent_mean + latent_std * eps\n",
    "    output = decoder(latent)\n",
    "    loss_recon = mse_loss(input,output)\n",
    "    reg_term = torch.mean(torch.exp(latent_logvar)+latent_mean**2-1-latent_logvar)\n",
    "    loss = loss_recon+BETA*reg_term\n",
    "    return loss\n",
    "def train(encoder, decoder, data):\n",
    "    encoder.train()\n",
    "    decoder.train()\n",
    "    random.shuffle(data)\n",
    "    for batch in tqdm(range(0,len(data)-BATCH_SIZE+1,BATCH_SIZE)):\n",
    "        cur = data[batch:batch+BATCH_SIZE]\n",
    "        loss = runModel(encoder, decoder, cur)\n",
    "        optimizer.zero_grad()\n",
    "        loss.backward()\n",
    "        optimizer.step()\n",
    "def test(encoder, decoder, data):\n",
    "    encoder.eval()\n",
    "    decoder.eval()\n",
    "    avg_loss = 0\n",
    "    with torch.no_grad():\n",
    "        for batch in tqdm(range(0,len(data)-BATCH_SIZE+1,BATCH_SIZE)):\n",
    "            cur = data[batch:batch+BATCH_SIZE]\n",
    "            loss = runModel(encoder, decoder, cur)\n",
    "            avg_loss += loss\n",
    "    return avg_loss/len(data)"
   ]
  },
  {
   "cell_type": "code",
   "execution_count": 104,
   "id": "39772f85",
   "metadata": {},
   "outputs": [
    {
     "name": "stderr",
     "output_type": "stream",
     "text": [
      "100%|██████████| 1875/1875 [00:53<00:00, 35.32it/s]\n",
      "100%|██████████| 312/312 [00:02<00:00, 121.25it/s]\n"
     ]
    },
    {
     "name": "stdout",
     "output_type": "stream",
     "text": [
      "tensor(0.0017)\n"
     ]
    },
    {
     "name": "stderr",
     "output_type": "stream",
     "text": [
      "100%|██████████| 1875/1875 [01:01<00:00, 30.51it/s]\n",
      "100%|██████████| 312/312 [00:02<00:00, 121.55it/s]\n"
     ]
    },
    {
     "name": "stdout",
     "output_type": "stream",
     "text": [
      "tensor(0.0017)\n"
     ]
    },
    {
     "name": "stderr",
     "output_type": "stream",
     "text": [
      "100%|██████████| 1875/1875 [01:03<00:00, 29.66it/s]\n",
      "100%|██████████| 312/312 [00:02<00:00, 112.77it/s]"
     ]
    },
    {
     "name": "stdout",
     "output_type": "stream",
     "text": [
      "tensor(0.0016)\n"
     ]
    },
    {
     "name": "stderr",
     "output_type": "stream",
     "text": [
      "\n"
     ]
    }
   ],
   "source": [
    "for _ in range(3):\n",
    "    train(encoder, decoder, train_data)\n",
    "    print(test(encoder, decoder, test_data))"
   ]
  },
  {
   "cell_type": "code",
   "execution_count": 105,
   "id": "7104c7b7",
   "metadata": {},
   "outputs": [
    {
     "name": "stdout",
     "output_type": "stream",
     "text": [
      "tensor([[ 0.0487,  0.3595, -0.0016, -1.0819,  0.2556, -0.0813, -0.8531, -1.0580,\n",
      "          0.0994,  0.0374, -0.0524, -0.2590, -0.1732, -0.1819,  0.3305,  1.4057,\n",
      "          0.1642, -0.3396,  0.2315,  0.8461, -0.0990, -0.4799, -0.0840, -0.4504,\n",
      "          0.0331,  0.1048, -0.0770,  0.3701, -0.2125,  0.1106, -0.6271,  0.1152,\n",
      "          0.0878,  0.0903, -0.0916, -0.0478,  0.1745, -0.0304,  0.1291,  0.2593,\n",
      "          0.4688, -0.2845,  0.0850,  0.0941,  0.0628,  0.0692,  0.0164, -0.2600,\n",
      "          0.0017, -0.1617, -0.1405, -0.0942, -0.1091, -0.3526, -0.1434, -0.1760,\n",
      "          0.0940,  0.2665,  0.4112,  0.4374, -0.2872, -0.3370,  0.3433,  0.6240,\n",
      "         -0.2017,  0.0687, -0.3500,  0.1847, -0.1407,  0.0479,  0.2540,  0.0721,\n",
      "          0.0716,  0.2006, -0.0722,  0.1087, -0.3043,  0.0850, -0.3172,  0.1311,\n",
      "          0.1515, -0.0346, -0.0424, -0.0362, -0.2318,  0.5346, -0.8597, -0.2340,\n",
      "         -0.0266,  0.1218, -0.0221, -0.1666, -0.0358,  0.0622, -0.5776, -0.3960,\n",
      "         -0.0968, -0.0979,  0.0360, -0.0179]], grad_fn=<SliceBackward0>) tensor([[-0.0275, -0.1955, -0.0191, -0.7271, -0.1011, -0.0217, -1.1599, -0.9748,\n",
      "         -0.0305, -0.0368, -0.0079, -0.0436, -0.1240, -0.0445, -0.2343, -1.0262,\n",
      "         -0.0351, -0.0556, -0.0367, -0.7240, -0.0299, -0.1871, -0.0265, -0.1435,\n",
      "         -0.0721, -0.0522, -0.0391, -0.1424, -0.0986, -0.1320, -0.2295, -0.0750,\n",
      "         -0.0435, -0.0285, -0.0499, -0.0220, -0.0361, -0.0159, -0.3298, -0.0646,\n",
      "         -0.0612, -0.0560, -0.0324,  0.0161, -0.0176, -0.0016, -0.0454, -0.0312,\n",
      "         -0.0401, -0.0245, -0.0151, -0.0471, -0.4092, -0.1163, -0.0863, -0.0274,\n",
      "         -0.0558, -0.0147, -0.4120, -0.1432, -0.0591, -0.0525, -0.0905, -0.1025,\n",
      "         -0.0058, -0.0869, -0.1207, -0.0551, -0.1318, -0.0358, -0.0674, -0.0404,\n",
      "         -1.3030, -0.0319, -0.1290, -0.0170, -0.0533, -0.0570, -0.1204, -0.0056,\n",
      "         -0.0250, -1.0376, -0.0524, -0.0614, -0.0546, -0.1795, -0.4266, -0.1287,\n",
      "         -0.5749, -0.0718, -0.0146, -0.0982, -0.0073, -0.0040, -0.0285, -0.3274,\n",
      "         -0.0760, -0.0183, -0.0240, -0.0192]], grad_fn=<SliceBackward0>)\n"
     ]
    },
    {
     "data": {
      "text/plain": [
       "<matplotlib.image.AxesImage at 0x77167a3ef9e0>"
      ]
     },
     "execution_count": 105,
     "metadata": {},
     "output_type": "execute_result"
    },
    {
     "data": {
      "image/png": "[encoded data removed]",
      "text/plain": [
       "<Figure size 1000x500 with 2 Axes>"
      ]
     },
     "metadata": {},
     "output_type": "display_data"
    }
   ],
   "source": [
    "decoder.eval()\n",
    "encoder.eval()\n",
    "img = test_data[0][0]\n",
    "img = torch.from_numpy(img/255).float().unsqueeze(0).unsqueeze(1)\n",
    "latent_distribution = encoder(img)\n",
    "\n",
    "latent_mean = latent_distribution[:, :LATENT_DIM]\n",
    "latent_logvar = latent_distribution[:, LATENT_DIM:]\n",
    "latent_std = torch.exp(latent_logvar/2)\n",
    "eps = torch.randn_like(latent_mean)\n",
    "latent = latent_mean + latent_std * eps\n",
    "img2 = decoder(latent).squeeze(0).squeeze(0)\n",
    "img2 = img2.detach().numpy()\n",
    "img = img.squeeze(0).squeeze(0).detach().numpy()\n",
    "print(latent_mean, latent_logvar)\n",
    "import matplotlib.pyplot as plt\n",
    "plt.figure(figsize=(10,5))\n",
    "plt.subplot(1,2,1)\n",
    "plt.imshow(img,cmap='gray')\n",
    "plt.subplot(1,2,2)\n",
    "plt.imshow(img2, cmap='gray')"
   ]
  },
  {
   "cell_type": "code",
   "execution_count": 114,
   "id": "095e4624",
   "metadata": {},
   "outputs": [
    {
     "data": {
      "text/plain": [
       "<matplotlib.image.AxesImage at 0x771679e821e0>"
      ]
     },
     "execution_count": 114,
     "metadata": {},
     "output_type": "execute_result"
    },
    {
     "data": {
      "image/png": "[encoded data removed]",
      "text/plain": [
       "<Figure size 640x480 with 1 Axes>"
      ]
     },
     "metadata": {},
     "output_type": "display_data"
    }
   ],
   "source": [
    "decoder.eval()\n",
    "latent = torch.randn(1, LATENT_DIM)\n",
    "img = decoder(latent).squeeze(0).squeeze(0)\n",
    "img = img.detach().numpy()\n",
    "import matplotlib.pyplot as plt\n",
    "plt.imshow(img, cmap='gray')"
   ]
  },
  {
   "cell_type": "code",
   "execution_count": 115,
   "id": "612c7a01",
   "metadata": {},
   "outputs": [],
   "source": [
    "torch.save(encoder.state_dict(), \"DigitCreation_encoder.pth\")\n",
    "torch.save(decoder.state_dict(), \"DigitCreation_decoder.pth\")"
   ]
  }
 ],
 "metadata": {
  "kernelspec": {
   "display_name": ".venv",
   "language": "python",
   "name": "python3"
  },
  "language_info": {
   "codemirror_mode": {
    "name": "ipython",
    "version": 3
   },
   "file_extension": ".py",
   "mimetype": "text/x-python",
   "name": "python",
   "nbconvert_exporter": "python",
   "pygments_lexer": "ipython3",
   "version": "3.12.3"
  }
 },
 "nbformat": 4,
 "nbformat_minor": 5
}
